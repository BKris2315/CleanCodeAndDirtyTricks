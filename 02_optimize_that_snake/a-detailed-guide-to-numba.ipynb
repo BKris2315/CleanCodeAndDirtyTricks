{
 "cells": [
  {
   "cell_type": "markdown",
   "metadata": {},
   "source": [
    "# A detailed Guide to Numba\n",
    "\n",
    "### Credits to: [Trigram](https://www.kaggle.com/code/nxrprime/a-detailed-guide-to-numba)"
   ]
  },
  {
   "cell_type": "markdown",
   "metadata": {},
   "source": [
    "NUmba is a just-in-time Python compiler to get back at those C++ bullies. It is really helpful with code that uses NumPy arrays.\n",
    "\n",
    "Numba contains a huge amount of decorators, which can be applied to your functions to instruct Numba to get that compiling done. When a call is made to Numba decorators, it is compiled to machine code and can run at the speed of **machine code**."
   ]
  },
  {
   "cell_type": "markdown",
   "metadata": {},
   "source": [
    "Numba works with:\n",
    "* Windows, OS X and Linux (OS)\n",
    "* x86, x86_64 (architecture)\n",
    "* Nvidia CUDA (GPU)\n",
    "* Latest version of NumPy\n",
    "* CPython"
   ]
  },
  {
   "cell_type": "markdown",
   "metadata": {},
   "source": [
    "# 1. How to use it (basic)"
   ]
  },
  {
   "cell_type": "markdown",
   "metadata": {},
   "source": [
    "If your code involves a lot of mathematical heavy lifting, or involves a ton of NumPy arrays, then Numba is perfectly suited to run. In this example, we'll use the `@jit` decorator, Numba's most basic."
   ]
  },
  {
   "cell_type": "code",
   "execution_count": 1,
   "metadata": {
    "_cell_guid": "b1076dfc-b9ad-4769-8c92-a6c4dae69d19",
    "_uuid": "8f2839f25d086af736a60e9eeb907d3b93b6e0e5"
   },
   "outputs": [],
   "source": [
    "import numpy as np\n",
    "from numba import jit"
   ]
  },
  {
   "cell_type": "code",
   "execution_count": 2,
   "metadata": {
    "_cell_guid": "79c7e3d0-c299-4dcb-8224-4455121ee9b0",
    "_uuid": "d629ff2d2480ee46fbb7e2d37f6b5fab8052498a"
   },
   "outputs": [],
   "source": [
    "x = np.arange(102).reshape(17, 6)"
   ]
  },
  {
   "cell_type": "code",
   "execution_count": 3,
   "metadata": {},
   "outputs": [
    {
     "data": {
      "text/plain": [
       "array([[  0,   1,   2,   3,   4,   5],\n",
       "       [  6,   7,   8,   9,  10,  11],\n",
       "       [ 12,  13,  14,  15,  16,  17],\n",
       "       [ 18,  19,  20,  21,  22,  23],\n",
       "       [ 24,  25,  26,  27,  28,  29],\n",
       "       [ 30,  31,  32,  33,  34,  35],\n",
       "       [ 36,  37,  38,  39,  40,  41],\n",
       "       [ 42,  43,  44,  45,  46,  47],\n",
       "       [ 48,  49,  50,  51,  52,  53],\n",
       "       [ 54,  55,  56,  57,  58,  59],\n",
       "       [ 60,  61,  62,  63,  64,  65],\n",
       "       [ 66,  67,  68,  69,  70,  71],\n",
       "       [ 72,  73,  74,  75,  76,  77],\n",
       "       [ 78,  79,  80,  81,  82,  83],\n",
       "       [ 84,  85,  86,  87,  88,  89],\n",
       "       [ 90,  91,  92,  93,  94,  95],\n",
       "       [ 96,  97,  98,  99, 100, 101]])"
      ]
     },
     "execution_count": 3,
     "metadata": {},
     "output_type": "execute_result"
    }
   ],
   "source": [
    "x"
   ]
  },
  {
   "cell_type": "markdown",
   "metadata": {},
   "source": [
    "Watch `@jit` in work now:"
   ]
  },
  {
   "cell_type": "code",
   "execution_count": 4,
   "metadata": {},
   "outputs": [
    {
     "name": "stdout",
     "output_type": "stream",
     "text": [
      "[[ 14.99999834  15.99999834  16.99999834  17.99999834  18.99999834\n",
      "   19.99999834]\n",
      " [ 20.99999834  21.99999834  22.99999834  23.99999834  24.99999834\n",
      "   25.99999834]\n",
      " [ 26.99999834  27.99999834  28.99999834  29.99999834  30.99999834\n",
      "   31.99999834]\n",
      " [ 32.99999834  33.99999834  34.99999834  35.99999834  36.99999834\n",
      "   37.99999834]\n",
      " [ 38.99999834  39.99999834  40.99999834  41.99999834  42.99999834\n",
      "   43.99999834]\n",
      " [ 44.99999834  45.99999834  46.99999834  47.99999834  48.99999834\n",
      "   49.99999834]\n",
      " [ 50.99999834  51.99999834  52.99999834  53.99999834  54.99999834\n",
      "   55.99999834]\n",
      " [ 56.99999834  57.99999834  58.99999834  59.99999834  60.99999834\n",
      "   61.99999834]\n",
      " [ 62.99999834  63.99999834  64.99999834  65.99999834  66.99999834\n",
      "   67.99999834]\n",
      " [ 68.99999834  69.99999834  70.99999834  71.99999834  72.99999834\n",
      "   73.99999834]\n",
      " [ 74.99999834  75.99999834  76.99999834  77.99999834  78.99999834\n",
      "   79.99999834]\n",
      " [ 80.99999834  81.99999834  82.99999834  83.99999834  84.99999834\n",
      "   85.99999834]\n",
      " [ 86.99999834  87.99999834  88.99999834  89.99999834  90.99999834\n",
      "   91.99999834]\n",
      " [ 92.99999834  93.99999834  94.99999834  95.99999834  96.99999834\n",
      "   97.99999834]\n",
      " [ 98.99999834  99.99999834 100.99999834 101.99999834 102.99999834\n",
      "  103.99999834]\n",
      " [104.99999834 105.99999834 106.99999834 107.99999834 108.99999834\n",
      "  109.99999834]\n",
      " [110.99999834 111.99999834 112.99999834 113.99999834 114.99999834\n",
      "  115.99999834]]\n"
     ]
    }
   ],
   "source": [
    "@jit(nopython=True)\n",
    "def example1(a): # Function is compiled to machine code when called the first time\n",
    "    trace = 0\n",
    "    for i in range(a.shape[0]):   \n",
    "        trace += np.tanh(a[i, i]) \n",
    "    return a + trace              \n",
    "\n",
    "print(example1(x))"
   ]
  },
  {
   "cell_type": "markdown",
   "metadata": {},
   "source": [
    "I can hear you guys \"What's that `nopython=True` do?\"\n",
    "\n",
    "Well, `nopython=True` allows Numba to compile your code **without** the interference of the Python interpreter, allowing your code to clock C++-level speeds (take that, you `cpp` bullies)"
   ]
  },
  {
   "cell_type": "markdown",
   "metadata": {},
   "source": [
    "But Numba is horrid on this:"
   ]
  },
  {
   "cell_type": "code",
   "execution_count": 5,
   "metadata": {},
   "outputs": [
    {
     "name": "stderr",
     "output_type": "stream",
     "text": [
      "<ipython-input-5-9edb3ca9ad66>:4: NumbaWarning: \u001b[1m\n",
      "Compilation is falling back to object mode WITH looplifting enabled because Function \"use_pandas\" failed type inference due to: \u001b[1m\u001b[1mnon-precise type pyobject\u001b[0m\n",
      "\u001b[0m\u001b[1m[1] During: typing of argument at <ipython-input-5-9edb3ca9ad66> (6)\u001b[0m\n",
      "\u001b[1m\n",
      "File \"<ipython-input-5-9edb3ca9ad66>\", line 6:\u001b[0m\n",
      "\u001b[1mdef use_pandas(a): \n",
      "\u001b[1m    df = pd.DataFrame.from_dict(a) # Numba doesn't know about pd.DataFrame\n",
      "\u001b[0m    \u001b[1m^\u001b[0m\u001b[0m\n",
      "\u001b[0m\n",
      "  @jit\n",
      "/opt/conda/lib/python3.6/site-packages/numba/object_mode_passes.py:178: NumbaWarning: \u001b[1mFunction \"use_pandas\" was compiled in object mode without forceobj=True.\n",
      "\u001b[1m\n",
      "File \"<ipython-input-5-9edb3ca9ad66>\", line 5:\u001b[0m\n",
      "\u001b[1m@jit\n",
      "\u001b[1mdef use_pandas(a): \n",
      "\u001b[0m\u001b[1m^\u001b[0m\u001b[0m\n",
      "\u001b[0m\n",
      "  state.func_ir.loc))\n",
      "/opt/conda/lib/python3.6/site-packages/numba/object_mode_passes.py:187: NumbaDeprecationWarning: \u001b[1m\n",
      "Fall-back from the nopython compilation path to the object mode compilation path has been detected, this is deprecated behaviour.\n",
      "\n",
      "For more information visit http://numba.pydata.org/numba-doc/latest/reference/deprecation.html#deprecation-of-object-mode-fall-back-behaviour-when-using-jit\n",
      "\u001b[1m\n",
      "File \"<ipython-input-5-9edb3ca9ad66>\", line 5:\u001b[0m\n",
      "\u001b[1m@jit\n",
      "\u001b[1mdef use_pandas(a): \n",
      "\u001b[0m\u001b[1m^\u001b[0m\u001b[0m\n",
      "\u001b[0m\n",
      "  warnings.warn(errors.NumbaDeprecationWarning(msg, state.func_ir.loc))\n"
     ]
    },
    {
     "name": "stdout",
     "output_type": "stream",
     "text": [
      "      a      b\n",
      "a   1.0   10.0\n",
      "b  10.0  100.0\n"
     ]
    }
   ],
   "source": [
    "x = {'a': [1, 2, 3], 'b': [20, 30, 40]}\n",
    "\n",
    "import pandas as pd\n",
    "@jit\n",
    "def use_pandas(a): \n",
    "    df = pd.DataFrame.from_dict(a) # Numba doesn't know about pd.DataFrame\n",
    "    df += 1                        # Numba doesn't understand what this is\n",
    "    return df.cov()                # or this!\n",
    "\n",
    "print(use_pandas(x))"
   ]
  },
  {
   "cell_type": "markdown",
   "metadata": {},
   "source": [
    "You can see that Numba does not understand Pandas, which means that Pandas will not benefit from `@jit`."
   ]
  },
  {
   "cell_type": "markdown",
   "metadata": {},
   "source": [
    "# 2. How to measure the performance of Numba?"
   ]
  },
  {
   "cell_type": "markdown",
   "metadata": {},
   "source": [
    "Once the compilation has taken place Numba runs the machine code version of your function. If it is called again the with same types, it can reuse the cached version instead of having to compile again.\n",
    "\n",
    "A common mistake when measuring performance is not accounting for the above behaviour and to time code once with a simple timer that includes the time taken to compile your function in the execution time.\n",
    "\n",
    "For example:"
   ]
  },
  {
   "cell_type": "code",
   "execution_count": 6,
   "metadata": {},
   "outputs": [
    {
     "name": "stdout",
     "output_type": "stream",
     "text": [
      "Elapsed (with compilation) = 0.24253249168395996\n",
      "Elapsed (after compilation) = 8.463859558105469e-05\n"
     ]
    }
   ],
   "source": [
    "import time\n",
    "\n",
    "x = np.arange(100).reshape(10, 10)\n",
    "\n",
    "@jit(nopython=True)\n",
    "def go_fast(a): # Function is compiled and runs in machine code\n",
    "    trace = 0\n",
    "    for i in range(a.shape[0]):\n",
    "        trace += np.tanh(a[i, i])\n",
    "    return a + trace\n",
    "\n",
    "# DO NOT REPORT THIS... COMPILATION TIME IS INCLUDED IN THE EXECUTION TIME!\n",
    "start = time.time()\n",
    "go_fast(x)\n",
    "end = time.time()\n",
    "print(\"Elapsed (with compilation) = %s\" % (end - start))\n",
    "\n",
    "# NOW THE FUNCTION IS COMPILED, RE-TIME IT EXECUTING FROM CACHE\n",
    "start = time.time()\n",
    "go_fast(x)\n",
    "end = time.time()\n",
    "print(\"Elapsed (after compilation) = %s\" % (end - start))"
   ]
  },
  {
   "cell_type": "markdown",
   "metadata": {},
   "source": [
    "# 3. @vectorize"
   ]
  },
  {
   "cell_type": "markdown",
   "metadata": {},
   "source": [
    "**Numba’s vectorize allows Python functions taking scalar input arguments to be used as NumPy ufuncs** <br><br> NumPy ufuncs are not the most straightforward process and involves writing C code. Numba makes this easy. Using the vectorize() decorator, Numba can compile a pure Python function into a ufunc that operates over NumPy arrays as fast as traditional C ufuncs."
   ]
  },
  {
   "cell_type": "markdown",
   "metadata": {},
   "source": [
    "The vectorize() decorator has two modes of operation:\n",
    "\n",
    "* Eager, or decoration-time, compilation\n",
    "* Lazy, or call-time, compilation"
   ]
  },
  {
   "cell_type": "markdown",
   "metadata": {},
   "source": [
    "In the basic case, only one signature will be passed:"
   ]
  },
  {
   "cell_type": "code",
   "execution_count": 7,
   "metadata": {},
   "outputs": [],
   "source": [
    "from numba import vectorize, float64, int32, int64, float32\n",
    "\n",
    "@vectorize([float64(float64, float64)])\n",
    "def example2(x, y):\n",
    "    return x + y"
   ]
  },
  {
   "cell_type": "markdown",
   "metadata": {},
   "source": [
    "If you pass several signatures:"
   ]
  },
  {
   "cell_type": "code",
   "execution_count": 8,
   "metadata": {},
   "outputs": [],
   "source": [
    "@vectorize([int32(int32, int32),\n",
    "            int64(int64, int64),\n",
    "            float32(float32, float32),\n",
    "            float64(float64, float64)])\n",
    "def f(x, y):\n",
    "    return x + y"
   ]
  },
  {
   "cell_type": "code",
   "execution_count": 9,
   "metadata": {},
   "outputs": [
    {
     "name": "stdout",
     "output_type": "stream",
     "text": [
      "Elapsed (after compilation) = 0.00014829635620117188\n"
     ]
    }
   ],
   "source": [
    "start = time.time()\n",
    "f(9, 9.9)\n",
    "end = time.time()\n",
    "print(\"Elapsed (after compilation) = %s\" % (end - start))"
   ]
  },
  {
   "cell_type": "markdown",
   "metadata": {},
   "source": [
    "# 4. @jitclass"
   ]
  },
  {
   "cell_type": "markdown",
   "metadata": {},
   "source": [
    "Numba supports code generation for classes via the `numba.jitclass()` decorator. A class can be marked for optimization using this decorator along with a specification of the types of each field. We call the resulting class object a `jitclass`. \n",
    "\n",
    "All methods of a `jitclass` are compiled into nopython functions. The data of a `jitclass` instance is allocated on the heap as a C-compatible structure so that any compiled functions can have direct access to the underlying data, bypassing the interpreter."
   ]
  },
  {
   "cell_type": "markdown",
   "metadata": {},
   "source": [
    "Here's an example of `jitclass`:"
   ]
  },
  {
   "cell_type": "code",
   "execution_count": 10,
   "metadata": {},
   "outputs": [],
   "source": [
    "import numpy as np\n",
    "from numba import jitclass          # import the decorator\n",
    "\n",
    "spec = [\n",
    "    ('value', int32),               # a simple scalar field\n",
    "    ('array', float32[:]),          # an array field\n",
    "]\n",
    "\n",
    "@jitclass(spec)\n",
    "class Bag(object):\n",
    "    def __init__(self, value):\n",
    "        self.value = value\n",
    "        self.array = np.zeros(value, dtype=np.float32)\n",
    "\n",
    "    @property\n",
    "    def size(self):\n",
    "        return self.array.size\n",
    "\n",
    "    def increment(self, val):\n",
    "        for i in range(self.size):\n",
    "            self.array[i] = val\n",
    "        return self.array"
   ]
  },
  {
   "cell_type": "markdown",
   "metadata": {},
   "source": [
    "# 5. cfunc"
   ]
  },
  {
   "cell_type": "markdown",
   "metadata": {},
   "source": [
    "The `@cfunc` decorator has a similar usage to `@jit`, but with an important difference: **a single signature is mandatory**. It determines the signature of the C callback:"
   ]
  },
  {
   "cell_type": "code",
   "execution_count": 11,
   "metadata": {},
   "outputs": [],
   "source": [
    "from numba import cfunc\n",
    "\n",
    "@cfunc(\"float64(float64, float64)\")\n",
    "def add(x, y):\n",
    "    return x + y\n"
   ]
  },
  {
   "cell_type": "markdown",
   "metadata": {},
   "source": [
    "# 6. Stencil"
   ]
  },
  {
   "cell_type": "markdown",
   "metadata": {},
   "source": [
    "Stencils are  common computational patters where array elements are updated according to a **stencil kernel**. Numba provides `@stencil` so users can specify a stencil kernel and then Numba will update the array elements with accordance to the stencil kernels."
   ]
  },
  {
   "cell_type": "code",
   "execution_count": 12,
   "metadata": {},
   "outputs": [],
   "source": [
    "from numba import stencil\n",
    "\n",
    "@stencil\n",
    "def kernel1(a):\n",
    "    return 0.25 * (a[0, 1] + a[1, 0] + a[0, -1] + a[-1, 0])"
   ]
  },
  {
   "cell_type": "markdown",
   "metadata": {},
   "source": [
    "# 7. Resources"
   ]
  },
  {
   "cell_type": "markdown",
   "metadata": {},
   "source": [
    "* At SciPy 2017: https://www.youtube.com/watch?v=1AwG0T4gaO0\n",
    "* By EuroPython: https://www.youtube.com/watch?v=UaFSnaYh2b8\n",
    "* Medium: https://towardsdatascience.com/speed-up-your-algorithms-part-2-numba-293e554c5cc1"
   ]
  }
 ],
 "metadata": {
  "kernelspec": {
   "display_name": "Python 3",
   "language": "python",
   "name": "python3"
  },
  "language_info": {
   "codemirror_mode": {
    "name": "ipython",
    "version": 3
   },
   "file_extension": ".py",
   "mimetype": "text/x-python",
   "name": "python",
   "nbconvert_exporter": "python",
   "pygments_lexer": "ipython3",
   "version": "3.6.6"
  }
 },
 "nbformat": 4,
 "nbformat_minor": 1
}
